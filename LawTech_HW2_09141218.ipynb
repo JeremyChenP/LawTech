{
 "cells": [
  {
   "cell_type": "markdown",
   "metadata": {},
   "source": [
    "# LawTech HW2"
   ]
  },
  {
   "cell_type": "markdown",
   "metadata": {},
   "source": [
    "繳交檔名：LawTech_HW2_學號"
   ]
  },
  {
   "cell_type": "markdown",
   "metadata": {},
   "source": [
    "請利用迴圈產生一個九九乘法表"
   ]
  },
  {
   "cell_type": "code",
   "execution_count": 21,
   "metadata": {},
   "outputs": [
    {
     "name": "stdout",
     "output_type": "stream",
     "text": [
      "1 X 1 = 1      2 X 1 = 2      3 X 1 = 3      \n",
      "1 X 2 = 2      2 X 2 = 4      3 X 2 = 6      \n",
      "1 X 3 = 3      2 X 3 = 6      3 X 3 = 9      \n",
      "1 X 4 = 4      2 X 4 = 8      3 X 4 = 12     \n",
      "1 X 5 = 5      2 X 5 = 10     3 X 5 = 15     \n",
      "1 X 6 = 6      2 X 6 = 12     3 X 6 = 18     \n",
      "1 X 7 = 7      2 X 7 = 14     3 X 7 = 21     \n",
      "1 X 8 = 8      2 X 8 = 16     3 X 8 = 24     \n",
      "1 X 9 = 9      2 X 9 = 18     3 X 9 = 27     \n",
      "\n",
      "4 X 1 = 4      5 X 1 = 5      6 X 1 = 6      \n",
      "4 X 2 = 8      5 X 2 = 10     6 X 2 = 12     \n",
      "4 X 3 = 12     5 X 3 = 15     6 X 3 = 18     \n",
      "4 X 4 = 16     5 X 4 = 20     6 X 4 = 24     \n",
      "4 X 5 = 20     5 X 5 = 25     6 X 5 = 30     \n",
      "4 X 6 = 24     5 X 6 = 30     6 X 6 = 36     \n",
      "4 X 7 = 28     5 X 7 = 35     6 X 7 = 42     \n",
      "4 X 8 = 32     5 X 8 = 40     6 X 8 = 48     \n",
      "4 X 9 = 36     5 X 9 = 45     6 X 9 = 54     \n",
      "\n",
      "7 X 1 = 7      8 X 1 = 8      9 X 1 = 9      \n",
      "7 X 2 = 14     8 X 2 = 16     9 X 2 = 18     \n",
      "7 X 3 = 21     8 X 3 = 24     9 X 3 = 27     \n",
      "7 X 4 = 28     8 X 4 = 32     9 X 4 = 36     \n",
      "7 X 5 = 35     8 X 5 = 40     9 X 5 = 45     \n",
      "7 X 6 = 42     8 X 6 = 48     9 X 6 = 54     \n",
      "7 X 7 = 49     8 X 7 = 56     9 X 7 = 63     \n",
      "7 X 8 = 56     8 X 8 = 64     9 X 8 = 72     \n",
      "7 X 9 = 63     8 X 9 = 72     9 X 9 = 81     \n",
      "\n"
     ]
    }
   ],
   "source": [
    "b=\" \"\n",
    "for i in range(1,10):\n",
    "    for l in range(1,4):\n",
    "        if i*l>=10:\n",
    "            print(l,\"X\",i,\"=\",i*l,end=\"     \")\n",
    "        else:\n",
    "            print(l,\"X\",i,\"=\",i*l,end=\"      \")\n",
    "    print(\"\")\n",
    "print(\"\")\n",
    "for i in range(1,10):\n",
    "    for l in range(4,7):\n",
    "        if i*l>=10:\n",
    "            print(l,\"X\",i,\"=\",i*l,end=\"     \")\n",
    "        else:\n",
    "            print(l,\"X\",i,\"=\",i*l,end=\"      \")\n",
    "    print(\"\")\n",
    "print(\"\")\n",
    "for i in range(1,10):\n",
    "    for l in range(7,10):\n",
    "        if i*l>=10:\n",
    "            print(l,\"X\",i,\"=\",i*l,end=\"     \")\n",
    "        else:\n",
    "            print(l,\"X\",i,\"=\",i*l,end=\"      \")\n",
    "    print(\"\")\n",
    "print(\"\")"
   ]
  },
  {
   "cell_type": "code",
   "execution_count": null,
   "metadata": {},
   "outputs": [],
   "source": []
  },
  {
   "cell_type": "code",
   "execution_count": null,
   "metadata": {},
   "outputs": [],
   "source": []
  }
 ],
 "metadata": {
  "kernelspec": {
   "display_name": "Python 3",
   "language": "python",
   "name": "python3"
  },
  "language_info": {
   "codemirror_mode": {
    "name": "ipython",
    "version": 3
   },
   "file_extension": ".py",
   "mimetype": "text/x-python",
   "name": "python",
   "nbconvert_exporter": "python",
   "pygments_lexer": "ipython3",
   "version": "3.8.3"
  }
 },
 "nbformat": 4,
 "nbformat_minor": 2
}
