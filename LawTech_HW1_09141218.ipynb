{
 "cells": [
  {
   "cell_type": "markdown",
   "metadata": {},
   "source": [
    "# LawTech HW1"
   ]
  },
  {
   "cell_type": "markdown",
   "metadata": {},
   "source": [
    "繳交檔名：LawTech_HW1_學號"
   ]
  },
  {
   "cell_type": "markdown",
   "metadata": {},
   "source": [
    "#### 一、字串處理"
   ]
  },
  {
   "cell_type": "markdown",
   "metadata": {},
   "source": [
    "請用「空白鍵」當作切割符，對 `test1`變數做切割，並將Zombie、boys、Vampire這幾個單詞抓出來，使用字串格式化的方式產生下面的句子"
   ]
  },
  {
   "cell_type": "markdown",
   "metadata": {},
   "source": [
    "Oh! boys, please don't fear Zombie and Vampire."
   ]
  },
  {
   "cell_type": "code",
   "execution_count": 13,
   "metadata": {},
   "outputs": [],
   "source": [
    "test1 = \"Zombie stories are life lessons for boys who don't mind thinking about bodies, but can't cope with emotions. \\\n",
    "Vampire stories are in many ways sex for the squeamish.\""
   ]
  },
  {
   "cell_type": "code",
   "execution_count": 14,
   "metadata": {},
   "outputs": [
    {
     "name": "stdout",
     "output_type": "stream",
     "text": [
      "Oh! boys, please don't fear Zombie and Vampire.\n"
     ]
    }
   ],
   "source": [
    "test1 = test1.split(\" \")\n",
    "print(\"Oh! {}, please don't fear {} and {}.\".format(test1[6],test1[0],test1[18]))"
   ]
  },
  {
   "cell_type": "markdown",
   "metadata": {},
   "source": [
    "#### 二、Index索引練習\n",
    "\n",
    "請將 List 中的數字抓出，並算出總合為多少"
   ]
  },
  {
   "cell_type": "code",
   "execution_count": 19,
   "metadata": {},
   "outputs": [],
   "source": [
    "List = [23, 'red', 3, ['15', 'apple', [3, '3.5']], '27', [90, 'fight']]"
   ]
  },
  {
   "cell_type": "code",
   "execution_count": 20,
   "metadata": {},
   "outputs": [
    {
     "name": "stdout",
     "output_type": "stream",
     "text": [
      "119\n"
     ]
    }
   ],
   "source": [
    "amount=0\n",
    "for i in range(0,len(List)):\n",
    "    if type(List[i])==int:\n",
    "        amount=amount+List[i]\n",
    "    elif type(List[i])==list:\n",
    "        for e in range(0,len(List[i])):\n",
    "            if type(List[i][e])==int:\n",
    "                amount=amount+List[i][e]\n",
    "            elif type(List[i][e])==list:\n",
    "                for f in range(0,len(List[i][e])):\n",
    "                    if type(List[i][e][f])==int:\n",
    "                        amount=amount+List[i][e][f]\n",
    "print(amount)"
   ]
  },
  {
   "cell_type": "markdown",
   "metadata": {},
   "source": [
    "#### 三、資料存取練習"
   ]
  },
  {
   "cell_type": "markdown",
   "metadata": {},
   "source": [
    "請設計一個資料結構（dict of list），來儲存以下數據\n",
    "\n",
    "\n",
    "Jay--M--170\n",
    "\n",
    "Bill--M--189\n",
    "\n",
    "Alice--F--160\n",
    "\n",
    "May--F--158\n",
    "\n",
    "Max--M--185\n",
    "\n",
    "Ann--F--148\n",
    "\n",
    "Dabby--F--150\n",
    "\n",
    "Steve--M--180\n",
    "\n",
    "Jet--M--173\n",
    "\n",
    "Amy--F--156\n",
    "\n",
    "並計算這10人的身高平均"
   ]
  },
  {
   "cell_type": "markdown",
   "metadata": {},
   "source": [
    "`sum()`：合計function\n"
   ]
  },
  {
   "cell_type": "code",
   "execution_count": 26,
   "metadata": {
    "scrolled": true
   },
   "outputs": [
    {
     "data": {
      "text/plain": [
       "{'Jay': ['M', '170'],\n",
       " 'Bill': ['M', '189'],\n",
       " 'Alice': ['F', '160'],\n",
       " 'May': ['F', '158'],\n",
       " 'Max': ['M', '185'],\n",
       " 'Ann': ['F', '148'],\n",
       " 'Dabby': ['F', '150'],\n",
       " 'Steve': ['M', '180'],\n",
       " 'Jet': ['M', '173'],\n",
       " 'Amy': ['F', '156']}"
      ]
     },
     "execution_count": 26,
     "metadata": {},
     "output_type": "execute_result"
    }
   ],
   "source": [
    "data={}\n",
    "data_base=\"Jay-M-170-Bill-M-189-Alice-F-160-May-F-158-Max-M-185-Ann-F-148-Dabby-F-150-Steve-M-180-Jet-M-173-Amy-F-156\"\n",
    "data_base=data_base.split(\"-\")\n",
    "for g in range(0,len(data_base),3):\n",
    "    data[data_base[g]]=[data_base[g+1],data_base[g+2]]\n",
    "data"
   ]
  },
  {
   "cell_type": "code",
   "execution_count": 38,
   "metadata": {},
   "outputs": [
    {
     "name": "stdout",
     "output_type": "stream",
     "text": [
      "166.9\n"
     ]
    }
   ],
   "source": [
    "total_age=0\n",
    "people=0\n",
    "for i in range(0,len(data_base),3):\n",
    "    name=data_base[i]\n",
    "    total_age=total_age+int(data[name][1])\n",
    "    people=people+1\n",
    "print(total_age/people)"
   ]
  },
  {
   "cell_type": "code",
   "execution_count": null,
   "metadata": {},
   "outputs": [],
   "source": []
  }
 ],
 "metadata": {
  "kernelspec": {
   "display_name": "Python 3",
   "language": "python",
   "name": "python3"
  },
  "language_info": {
   "codemirror_mode": {
    "name": "ipython",
    "version": 3
   },
   "file_extension": ".py",
   "mimetype": "text/x-python",
   "name": "python",
   "nbconvert_exporter": "python",
   "pygments_lexer": "ipython3",
   "version": "3.8.3"
  }
 },
 "nbformat": 4,
 "nbformat_minor": 2
}
